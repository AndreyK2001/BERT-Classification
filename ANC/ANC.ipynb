{
  "nbformat": 4,
  "nbformat_minor": 0,
  "metadata": {
    "colab": {
      "provenance": [],
      "gpuType": "T4"
    },
    "kernelspec": {
      "name": "python3",
      "display_name": "Python 3"
    },
    "language_info": {
      "name": "python"
    },
    "accelerator": "GPU"
  },
  "cells": [
    {
      "cell_type": "code",
      "execution_count": 1,
      "metadata": {
        "colab": {
          "base_uri": "https://localhost:8080/"
        },
        "id": "MAp6JwAbCCeQ",
        "outputId": "7178316b-198a-4250-f1c7-7695995b0bbf"
      },
      "outputs": [
        {
          "output_type": "stream",
          "name": "stdout",
          "text": [
            "Cloning into 'readme'...\n",
            "remote: Enumerating objects: 47, done.\u001b[K\n",
            "remote: Counting objects: 100% (47/47), done.\u001b[K\n",
            "remote: Compressing objects: 100% (42/42), done.\u001b[K\n",
            "remote: Total 47 (delta 6), reused 23 (delta 0), pack-reused 0\u001b[K\n",
            "Receiving objects: 100% (47/47), 1.95 MiB | 10.17 MiB/s, done.\n",
            "Resolving deltas: 100% (6/6), done.\n"
          ]
        }
      ],
      "source": [
        "!git clone https://github.com/tareknaous/readme.git"
      ]
    },
    {
      "cell_type": "code",
      "source": [
        "import os\n",
        "os.system(\"\"\"wget \"https://getfile.dokpub.com/yandex/get/https://disk.yandex.com/d/UN5pmzv66OM1Pg\" -O model_en\"\"\")"
      ],
      "metadata": {
        "colab": {
          "base_uri": "https://localhost:8080/"
        },
        "id": "ZIviw7zSNw1c",
        "outputId": "d15ce893-d1fc-4aa3-a959-3a554742d272"
      },
      "execution_count": 2,
      "outputs": [
        {
          "output_type": "execute_result",
          "data": {
            "text/plain": [
              "0"
            ]
          },
          "metadata": {},
          "execution_count": 2
        }
      ]
    },
    {
      "cell_type": "code",
      "source": [
        "import torch\n",
        "from tqdm.notebook import tqdm\n",
        "\n",
        "from transformers import BertTokenizer\n",
        "from torch.utils.data import TensorDataset\n",
        "\n",
        "from torch.utils.data import DataLoader, SequentialSampler\n",
        "\n",
        "from transformers import BertForSequenceClassification\n",
        "import pandas as pd\n",
        "import numpy as np"
      ],
      "metadata": {
        "id": "QeRUS-fDL08C"
      },
      "execution_count": 44,
      "outputs": []
    },
    {
      "cell_type": "code",
      "source": [
        "tokenizer = BertTokenizer.from_pretrained('bert-base-multilingual-cased',\n",
        "                                              do_lower_case=True)\n",
        "\n",
        "def make_dataloader(language = 'en', n_samples_per_class = 50, batch_size = 3):\n",
        "\n",
        "    data = pd.concat([pd.read_excel(f'/content/readme/dataset/{language}/readme_{language}_train.xlsx'), pd.read_excel(f'/content/readme/dataset/{language}/readme_{language}_val.xlsx'), pd.read_excel(f'/content/readme/dataset/{language}/readme_{language}_test.xlsx')], axis=0)\n",
        "    data.head()\n",
        "\n",
        "    label_dict = {1: 0, 2: 1, 3: 2, 4: 3, 5: 4, 6: 5}\n",
        "\n",
        "\n",
        "    data_lang = pd.DataFrame(columns=['text', 'label'])\n",
        "    data_lang['text'] = data['Sentence']\n",
        "    data_lang['label'] = data['Rating'].replace(label_dict)\n",
        "\n",
        "\n",
        "    samples_list = []\n",
        "    for label in label_dict.values():\n",
        "        samples = data_lang[data_lang['label'] == label].sample(n=n_samples_per_class, replace=False)\n",
        "        samples_list.append(samples)\n",
        "\n",
        "    data_lang = pd.concat(samples_list)\n",
        "\n",
        "    encoded_lang = tokenizer.batch_encode_plus(\n",
        "        data_lang['text'].values,\n",
        "        add_special_tokens=True,\n",
        "        return_attention_mask=True,\n",
        "        pad_to_max_length=True,\n",
        "        max_length=256,\n",
        "        return_tensors='pt'\n",
        "    )\n",
        "\n",
        "    input_ids_predict = encoded_lang['input_ids']\n",
        "    attention_masks_predict = encoded_lang['attention_mask']\n",
        "    labels_predict = torch.tensor(data_lang['label'].values)\n",
        "\n",
        "    dataset_lang = TensorDataset(input_ids_predict, attention_masks_predict, labels_predict)\n",
        "\n",
        "\n",
        "    dataloader_lang = DataLoader(dataset_lang,\n",
        "                                  sampler=SequentialSampler(dataset_lang),\n",
        "                                  batch_size=batch_size)\n",
        "    return dataloader_lang"
      ],
      "metadata": {
        "id": "byVe6shsI8oh"
      },
      "execution_count": 45,
      "outputs": []
    },
    {
      "cell_type": "code",
      "source": [],
      "metadata": {
        "id": "--xoRT3cKgM-"
      },
      "execution_count": 45,
      "outputs": []
    },
    {
      "cell_type": "code",
      "source": [
        "model = BertForSequenceClassification.from_pretrained(\"bert-base-multilingual-cased\",\n",
        "                                                      num_labels=6,\n",
        "                                                      output_attentions=False,\n",
        "                                                      output_hidden_states=True)"
      ],
      "metadata": {
        "colab": {
          "base_uri": "https://localhost:8080/"
        },
        "id": "L7Ql40bcPqfR",
        "outputId": "965cb7c6-51f2-451a-93a8-b9e7381b8ffd"
      },
      "execution_count": 46,
      "outputs": [
        {
          "output_type": "stream",
          "name": "stderr",
          "text": [
            "Some weights of BertForSequenceClassification were not initialized from the model checkpoint at bert-base-multilingual-cased and are newly initialized: ['classifier.weight', 'classifier.bias']\n",
            "You should probably TRAIN this model on a down-stream task to be able to use it for predictions and inference.\n"
          ]
        }
      ]
    },
    {
      "cell_type": "code",
      "source": [
        "stete_dict = torch.load(\"./model_en\")\n",
        "model.load_state_dict(stete_dict)\n",
        "\n",
        "device = \"cpu\"\n",
        "if torch.cuda.is_available(): device = \"cuda\"\n",
        "\n",
        "model = model.to(device)"
      ],
      "metadata": {
        "id": "Mj9Z_BzyH4M3"
      },
      "execution_count": 47,
      "outputs": []
    },
    {
      "cell_type": "code",
      "source": [
        "def get_neurons_activations(dataloader):\n",
        "\n",
        "    model.eval()\n",
        "\n",
        "    hidens_per_layer = [[] for _ in range(13)]\n",
        "\n",
        "    for batch in dataloader:\n",
        "        batch = tuple(b.to(device) for b in batch)\n",
        "        inputs = {'input_ids':      batch[0],\n",
        "                  'attention_mask': batch[1],\n",
        "                  'labels':         batch[2],\n",
        "                 }\n",
        "\n",
        "        with torch.no_grad():\n",
        "            outputs = model(**inputs)\n",
        "\n",
        "        for layer_idx, layer_hidden_states in enumerate(outputs['hidden_states']):\n",
        "            hidens_per_layer[layer_idx].append(layer_hidden_states)\n",
        "\n",
        "    hidens_stacked_per_layer = [torch.cat(layer_hidens, dim=0) for layer_hidens in hidens_per_layer]\n",
        "\n",
        "    all_hidens_tensor = torch.stack(hidens_stacked_per_layer)\n",
        "\n",
        "    return all_hidens_tensor"
      ],
      "metadata": {
        "id": "peJ9Oq5BCXGy"
      },
      "execution_count": 48,
      "outputs": []
    },
    {
      "cell_type": "code",
      "source": [
        "def pearson_corr(x, y):\n",
        "    return (torch.dot(x, y)/(torch.norm(x)*torch.norm(y))).item()\n",
        "\n",
        "def ANC(L1, L2):\n",
        "    X = (L1.T - L1.mean(1)).T\n",
        "    Y = (L2.T - L2.mean(1)).T\n",
        "\n",
        "    anc = 0\n",
        "    for i in range(X.size()[0]):\n",
        "        anc+=abs(pearson_corr(X[i], Y[i]))\n",
        "\n",
        "    return anc/X.size()[0]\n",
        "\n",
        "def count_ANC(layers1, layers2):\n",
        "    anc = []\n",
        "    for i in range(13):\n",
        "      anc.append(ANC(layers1[i], layers2[i]))\n",
        "\n",
        "    return anc"
      ],
      "metadata": {
        "id": "VN59XdWo_bHn"
      },
      "execution_count": 83,
      "outputs": []
    },
    {
      "cell_type": "code",
      "source": [],
      "metadata": {
        "id": "wGcx7E0wOJJ2"
      },
      "execution_count": 83,
      "outputs": []
    },
    {
      "cell_type": "code",
      "source": [
        "dataloader_en = make_dataloader('en')\n",
        "outs = get_neurons_activations(dataloader_en)\n",
        "layers_en = outs.permute(0, 3, 2, 1).mean(dim=3)\n",
        "torch.cuda.empty_cache()"
      ],
      "metadata": {
        "colab": {
          "base_uri": "https://localhost:8080/"
        },
        "id": "NwznVq7X26wA",
        "outputId": "55c3b03e-4911-49b8-e5d4-cdbd4c3da93c"
      },
      "execution_count": 84,
      "outputs": [
        {
          "output_type": "stream",
          "name": "stderr",
          "text": [
            "/usr/local/lib/python3.10/dist-packages/transformers/tokenization_utils_base.py:2614: FutureWarning: The `pad_to_max_length` argument is deprecated and will be removed in a future version, use `padding=True` or `padding='longest'` to pad to the longest sequence in the batch, or use `padding='max_length'` to pad to a max length. In this case, you can give a specific length with `max_length` (e.g. `max_length=45`) or leave max_length to None to pad to the maximal input size of the model (e.g. 512 for Bert).\n",
            "  warnings.warn(\n"
          ]
        }
      ]
    },
    {
      "cell_type": "code",
      "source": [
        "dataloader_compare = make_dataloader('ru')\n",
        "outs = get_neurons_activations(dataloader_compare)\n",
        "layers_compare = outs.permute(0, 3, 2, 1).mean(dim=3)\n",
        "torch.cuda.empty_cache()"
      ],
      "metadata": {
        "colab": {
          "base_uri": "https://localhost:8080/"
        },
        "id": "r4Lp9ygg3I4y",
        "outputId": "86d0a1a9-65bc-4591-e332-a5548edf794b"
      },
      "execution_count": 96,
      "outputs": [
        {
          "output_type": "stream",
          "name": "stderr",
          "text": [
            "/usr/local/lib/python3.10/dist-packages/transformers/tokenization_utils_base.py:2614: FutureWarning: The `pad_to_max_length` argument is deprecated and will be removed in a future version, use `padding=True` or `padding='longest'` to pad to the longest sequence in the batch, or use `padding='max_length'` to pad to a max length. In this case, you can give a specific length with `max_length` (e.g. `max_length=45`) or leave max_length to None to pad to the maximal input size of the model (e.g. 512 for Bert).\n",
            "  warnings.warn(\n"
          ]
        }
      ]
    },
    {
      "cell_type": "code",
      "source": [
        "en_ru = count_ANC(layers_en, layers_compare)"
      ],
      "metadata": {
        "id": "83YYibiQgWUj"
      },
      "execution_count": 97,
      "outputs": []
    },
    {
      "cell_type": "code",
      "source": [
        "en_fr = [0.986366778301696,\n",
        " 0.9316763828780191,\n",
        " 0.9471255294435347,\n",
        " 0.9532513719750568,\n",
        " 0.9496065711136907,\n",
        " 0.9374384427792393,\n",
        " 0.9263264416949823,\n",
        " 0.8955829425443275,\n",
        " 0.867475722222783,\n",
        " 0.8354308719717665,\n",
        " 0.7958950551862168,\n",
        " 0.7197933996940264,\n",
        " 0.669354213658759]"
      ],
      "metadata": {
        "colab": {
          "base_uri": "https://localhost:8080/"
        },
        "id": "Sbr9PNDcl66A",
        "outputId": "e9630fd4-ad8f-4d59-daf1-ad61e842627f"
      },
      "execution_count": 87,
      "outputs": [
        {
          "output_type": "execute_result",
          "data": {
            "text/plain": [
              "[0.986366778301696,\n",
              " 0.9316763828780191,\n",
              " 0.9471255294435347,\n",
              " 0.9532513719750568,\n",
              " 0.9496065711136907,\n",
              " 0.9374384427792393,\n",
              " 0.9263264416949823,\n",
              " 0.8955829425443275,\n",
              " 0.867475722222783,\n",
              " 0.8354308719717665,\n",
              " 0.7958950551862168,\n",
              " 0.7197933996940264,\n",
              " 0.669354213658759]"
            ]
          },
          "metadata": {},
          "execution_count": 87
        }
      ]
    },
    {
      "cell_type": "code",
      "source": [
        "en_hi = [0.9666068338168164,\n",
        " 0.8757910282198887,\n",
        " 0.899310232634889,\n",
        " 0.8877336468819218,\n",
        " 0.8710140347344956,\n",
        " 0.8363062396771662,\n",
        " 0.8125240974234961,\n",
        " 0.7589047958314646,\n",
        " 0.7289765558919802,\n",
        " 0.707558599050723,\n",
        " 0.6772418691762141,\n",
        " 0.6461472481228915,\n",
        " 0.6313209589037191]"
      ],
      "metadata": {
        "colab": {
          "base_uri": "https://localhost:8080/"
        },
        "id": "Vslj7XRw53qE",
        "outputId": "736eb8cd-3103-4bdb-e948-b952d6a457a2"
      },
      "execution_count": 95,
      "outputs": [
        {
          "output_type": "execute_result",
          "data": {
            "text/plain": [
              "[0.9666068338168164,\n",
              " 0.8757910282198887,\n",
              " 0.899310232634889,\n",
              " 0.8877336468819218,\n",
              " 0.8710140347344956,\n",
              " 0.8363062396771662,\n",
              " 0.8125240974234961,\n",
              " 0.7589047958314646,\n",
              " 0.7289765558919802,\n",
              " 0.707558599050723,\n",
              " 0.6772418691762141,\n",
              " 0.6461472481228915,\n",
              " 0.6313209589037191]"
            ]
          },
          "metadata": {},
          "execution_count": 95
        }
      ]
    },
    {
      "cell_type": "code",
      "source": [
        "en_ru = [0.9725742822823426,\n",
        " 0.9127718781819567,\n",
        " 0.9295304565845678,\n",
        " 0.9222624795899416,\n",
        " 0.9038452349971825,\n",
        " 0.8777211793446137,\n",
        " 0.8516598152491497,\n",
        " 0.8123564221799219,\n",
        " 0.7761759502136556,\n",
        " 0.7635679728822046,\n",
        " 0.7395975639677393,\n",
        " 0.6958255694820158,\n",
        " 0.6629999773261565]"
      ],
      "metadata": {
        "colab": {
          "base_uri": "https://localhost:8080/"
        },
        "id": "EE1DpHUg53sh",
        "outputId": "31eec253-6042-40a3-c161-f74e1373f60c"
      },
      "execution_count": 98,
      "outputs": [
        {
          "output_type": "execute_result",
          "data": {
            "text/plain": [
              "[0.9725742822823426,\n",
              " 0.9127718781819567,\n",
              " 0.9295304565845678,\n",
              " 0.9222624795899416,\n",
              " 0.9038452349971825,\n",
              " 0.8777211793446137,\n",
              " 0.8516598152491497,\n",
              " 0.8123564221799219,\n",
              " 0.7761759502136556,\n",
              " 0.7635679728822046,\n",
              " 0.7395975639677393,\n",
              " 0.6958255694820158,\n",
              " 0.6629999773261565]"
            ]
          },
          "metadata": {},
          "execution_count": 98
        }
      ]
    },
    {
      "cell_type": "code",
      "source": [
        "en_ar = [0.9706136611833548,\n",
        " 0.8885367923552016,\n",
        " 0.9045047636027448,\n",
        " 0.8985308355962237,\n",
        " 0.888501629679619,\n",
        " 0.8585778978425272,\n",
        " 0.8336675469957603,\n",
        " 0.790140791820401,\n",
        " 0.7476773532506135,\n",
        " 0.7300161511005475,\n",
        " 0.6906129168031233,\n",
        " 0.6455877838091814,\n",
        " 0.6081699742029135]"
      ],
      "metadata": {
        "colab": {
          "base_uri": "https://localhost:8080/"
        },
        "id": "fHoDoyYR43TM",
        "outputId": "f67b1872-6bc8-4980-c971-33ca234617d5"
      },
      "execution_count": 91,
      "outputs": [
        {
          "output_type": "execute_result",
          "data": {
            "text/plain": [
              "[0.9706136611833548,\n",
              " 0.8885367923552016,\n",
              " 0.9045047636027448,\n",
              " 0.8985308355962237,\n",
              " 0.888501629679619,\n",
              " 0.8585778978425272,\n",
              " 0.8336675469957603,\n",
              " 0.790140791820401,\n",
              " 0.7476773532506135,\n",
              " 0.7300161511005475,\n",
              " 0.6906129168031233,\n",
              " 0.6455877838091814,\n",
              " 0.6081699742029135]"
            ]
          },
          "metadata": {},
          "execution_count": 91
        }
      ]
    },
    {
      "cell_type": "code",
      "source": [
        "en_fr = [0.9915416770769904,\n",
        " 0.9406156810437096,\n",
        " 0.9494156326012065,\n",
        " 0.9005936804048057,\n",
        " 0.8640655499463415,\n",
        " 0.8564249880413021,\n",
        " 0.850572608935181,\n",
        " 0.8411544406408211,\n",
        " 0.8274317071251668,\n",
        " 0.8102771975864016,\n",
        " 0.8185727525268097,\n",
        " 0.8378925341482196,\n",
        " 0.8746781985986066]"
      ],
      "metadata": {
        "colab": {
          "base_uri": "https://localhost:8080/"
        },
        "id": "FFwxVC7Z43Vp",
        "outputId": "24b7b62e-d4a9-4a4d-ec45-051fc01c746d"
      },
      "execution_count": 46,
      "outputs": [
        {
          "output_type": "execute_result",
          "data": {
            "text/plain": [
              "[0.9915416770769904,\n",
              " 0.9406156810437096,\n",
              " 0.9494156326012065,\n",
              " 0.9005936804048057,\n",
              " 0.8640655499463415,\n",
              " 0.8564249880413021,\n",
              " 0.850572608935181,\n",
              " 0.8411544406408211,\n",
              " 0.8274317071251668,\n",
              " 0.8102771975864016,\n",
              " 0.8185727525268097,\n",
              " 0.8378925341482196,\n",
              " 0.8746781985986066]"
            ]
          },
          "metadata": {},
          "execution_count": 46
        }
      ]
    },
    {
      "cell_type": "code",
      "source": [
        "import matplotlib.pyplot as plt\n",
        "\n",
        "x = np.arange(0, 13)\n",
        "\n",
        "plt.figure(figsize=(10, 6))\n",
        "plt.plot(x, en_ar, label='en-ar', marker='o')\n",
        "plt.plot(x, en_fr, label='en-fr', marker='o')\n",
        "plt.plot(x, en_ru, label='en-ru', marker='o')\n",
        "plt.plot(x, en_hi, label='en-hi', marker='o')\n",
        "\n",
        "plt.title('ANC')\n",
        "plt.xlabel('Layer')\n",
        "plt.ylabel('Value')\n",
        "plt.legend()\n",
        "\n",
        "plt.grid(True)\n",
        "plt.show()\n"
      ],
      "metadata": {
        "colab": {
          "base_uri": "https://localhost:8080/",
          "height": 435
        },
        "id": "BdqIfJWSgWW7",
        "outputId": "32ae2a53-668a-4226-f777-ac336577b537"
      },
      "execution_count": 99,
      "outputs": [
        {
          "output_type": "display_data",
          "data": {
            "text/plain": [
              "<Figure size 1000x600 with 1 Axes>"
            ],
            "image/png": "[encoded data removed]"
          },
          "metadata": {}
        }
      ]
    },
    {
      "cell_type": "code",
      "source": [],
      "metadata": {
        "id": "IvAfJE-ZjpUP"
      },
      "execution_count": null,
      "outputs": []
    }
  ]
}