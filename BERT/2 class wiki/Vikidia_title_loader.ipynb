{
  "cells": [
    {
      "cell_type": "markdown",
      "source": [
        "# GPU part"
      ],
      "metadata": {
        "id": "Nzn-NKn9gEZ5"
      }
    },
    {
      "cell_type": "code",
      "source": [
        "# https://ssharoff.github.io/kelly/dfly/\n",
        "!xz -d /content/vikidia-fr.ol.xz"
      ],
      "metadata": {
        "id": "x-ZwUN_1gIUS"
      },
      "execution_count": null,
      "outputs": []
    },
    {
      "cell_type": "code",
      "execution_count": 7,
      "metadata": {
        "id": "BJWvQE51DYzN"
      },
      "outputs": [],
      "source": [
        "lang = 'fr'"
      ]
    },
    {
      "cell_type": "code",
      "execution_count": null,
      "metadata": {
        "colab": {
          "base_uri": "https://localhost:8080/"
        },
        "id": "a3jnhd9lyXpV",
        "outputId": "0b7fcd96-efaa-45d5-8753-742aa25a3de7"
      },
      "outputs": [
        {
          "output_type": "stream",
          "name": "stderr",
          "text": [
            "Some weights of the model checkpoint at dslim/bert-base-NER were not used when initializing BertForTokenClassification: ['bert.pooler.dense.bias', 'bert.pooler.dense.weight']\n",
            "- This IS expected if you are initializing BertForTokenClassification from the checkpoint of a model trained on another task or with another architecture (e.g. initializing a BertForSequenceClassification model from a BertForPreTraining model).\n",
            "- This IS NOT expected if you are initializing BertForTokenClassification from the checkpoint of a model that you expect to be exactly identical (initializing a BertForSequenceClassification model from a BertForSequenceClassification model).\n"
          ]
        }
      ],
      "source": [
        "import re\n",
        "import torch\n",
        "from transformers import pipeline\n",
        "from collections import Counter\n",
        "\n",
        "device = \"cpu\"\n",
        "if torch.cuda.is_available(): device = \"cuda\"\n",
        "\n",
        "ner_pipeline = pipeline(\"ner\", model=\"dslim/bert-base-NER\", tokenizer=\"dslim/bert-base-NER\", device=device)\n",
        "\n",
        "def get_main_entity(text):\n",
        "    try:\n",
        "        results = ner_pipeline(text)\n",
        "        # Агрегация результатов\n",
        "        entity_counts = Counter(result[\"entity\"] for result in results)\n",
        "        # Определение самой частой категории\n",
        "        dominant_entity = entity_counts.most_common(1)[0][0]\n",
        "        return dominant_entity.split(\"-\", 1)[-1].strip()\n",
        "    except:\n",
        "        return 'O'\n",
        "\n",
        "\n",
        "def extract_articles(file_path):\n",
        "    articles = []\n",
        "    with open(file_path, \"rt\") as file:\n",
        "        for line in file:\n",
        "            # Парсим строку для извлечения заголовка и текста статьи\n",
        "            match = re.match(r'__id__wiki/(.+?)\\t<h> (.+?) <p> (.+?) </text>', line)\n",
        "            if match:\n",
        "                article_id = match.group(1)\n",
        "                title = match.group(2)\n",
        "                text = match.group(3)\n",
        "                #articles.append({'id': article_id, 'title': title, 'text': text.replace('<p>', '')})\n",
        "                article = text.replace('<p>', '')\n",
        "\n",
        "                articles.append({'title': title, 'entity': get_main_entity(article), 'text': article})\n",
        "    return articles\n"
      ]
    },
    {
      "cell_type": "code",
      "execution_count": null,
      "metadata": {
        "id": "NtPRguXzzGfA",
        "colab": {
          "base_uri": "https://localhost:8080/"
        },
        "outputId": "9933323e-df47-4939-e8b4-622f80f27eb8"
      },
      "outputs": [
        {
          "output_type": "stream",
          "name": "stderr",
          "text": [
            "/usr/local/lib/python3.10/dist-packages/transformers/pipelines/base.py:1123: UserWarning: You seem to be using the pipelines sequentially on GPU. In order to maximize efficiency please use a dataset\n",
            "  warnings.warn(\n"
          ]
        }
      ],
      "source": [
        "file_path = f'/content/vikidia-{lang}.ol'\n",
        "\n",
        "articles = extract_articles(file_path)"
      ]
    },
    {
      "cell_type": "code",
      "execution_count": 11,
      "metadata": {
        "id": "MPLXFgnqBd7p",
        "colab": {
          "base_uri": "https://localhost:8080/",
          "height": 190
        },
        "outputId": "09c2060d-86ae-4ca7-8787-1bf8015b6355"
      },
      "outputs": [
        {
          "output_type": "error",
          "ename": "NameError",
          "evalue": "name 'articles' is not defined",
          "traceback": [
            "\u001b[0;31m---------------------------------------------------------------------------\u001b[0m",
            "\u001b[0;31mNameError\u001b[0m                                 Traceback (most recent call last)",
            "\u001b[0;32m<ipython-input-11-f766ae6c4057>\u001b[0m in \u001b[0;36m<cell line: 3>\u001b[0;34m()\u001b[0m\n\u001b[1;32m      1\u001b[0m \u001b[0;32mimport\u001b[0m \u001b[0mpandas\u001b[0m \u001b[0;32mas\u001b[0m \u001b[0mpd\u001b[0m\u001b[0;34m\u001b[0m\u001b[0;34m\u001b[0m\u001b[0m\n\u001b[1;32m      2\u001b[0m \u001b[0;34m\u001b[0m\u001b[0m\n\u001b[0;32m----> 3\u001b[0;31m \u001b[0mres\u001b[0m \u001b[0;34m=\u001b[0m \u001b[0mpd\u001b[0m\u001b[0;34m.\u001b[0m\u001b[0mDataFrame\u001b[0m\u001b[0;34m(\u001b[0m\u001b[0marticles\u001b[0m\u001b[0;34m)\u001b[0m\u001b[0;34m\u001b[0m\u001b[0;34m\u001b[0m\u001b[0m\n\u001b[0m\u001b[1;32m      4\u001b[0m \u001b[0mres\u001b[0m\u001b[0;34m.\u001b[0m\u001b[0mto_csv\u001b[0m\u001b[0;34m(\u001b[0m\u001b[0;34mf'vikidia_{lang}.csv'\u001b[0m\u001b[0;34m,\u001b[0m \u001b[0mindex\u001b[0m\u001b[0;34m=\u001b[0m\u001b[0;32mFalse\u001b[0m\u001b[0;34m)\u001b[0m\u001b[0;34m\u001b[0m\u001b[0;34m\u001b[0m\u001b[0m\n",
            "\u001b[0;31mNameError\u001b[0m: name 'articles' is not defined"
          ]
        }
      ],
      "source": [
        "import pandas as pd\n",
        "\n",
        "res = pd.DataFrame(articles)\n",
        "res.to_csv(f'vikidia_{lang}.csv', index=False)"
      ]
    },
    {
      "cell_type": "markdown",
      "source": [
        "# CPU part"
      ],
      "metadata": {
        "id": "mtQyMlAZhd0B"
      }
    },
    {
      "cell_type": "code",
      "source": [
        "import pandas as pd\n",
        "lang = 'fr'\n",
        "res = pd.read_csv(f'./vikidia_{lang}.csv').reset_index(drop=True)"
      ],
      "metadata": {
        "id": "rx996q8YwnD0"
      },
      "execution_count": 1,
      "outputs": []
    },
    {
      "cell_type": "code",
      "execution_count": 2,
      "metadata": {
        "id": "oLS_cKn591X2",
        "colab": {
          "base_uri": "https://localhost:8080/",
          "height": 476
        },
        "outputId": "7745ca2a-73e8-48a6-cbe8-81d2d7e6e94a"
      },
      "outputs": [
        {
          "output_type": "display_data",
          "data": {
            "text/plain": [
              "<Figure size 1200x600 with 2 Axes>"
            ],
            "image/png": "[encoded data removed]"
          },
          "metadata": {}
        }
      ],
      "source": [
        "import matplotlib.pyplot as plt\n",
        "\n",
        "# Вычисляем количество слов и предложений для каждого текста\n",
        "word_counts = [len(text.split()) for text in res['text']]\n",
        "sentence_counts = [len(text.split('. ')) for text in res['text']]\n",
        "\n",
        "# Построение распределения количества слов\n",
        "plt.figure(figsize=(12, 6))\n",
        "\n",
        "plt.subplot(1, 2, 1)\n",
        "plt.hist(word_counts, bins=range(0, 600), color='blue', edgecolor='black')\n",
        "plt.title('Распределение количества слов')\n",
        "plt.xlabel('Количество слов')\n",
        "plt.ylabel('Частота')\n",
        "\n",
        "# Построение распределения количества предложений\n",
        "plt.subplot(1, 2, 2)\n",
        "plt.hist(sentence_counts, bins=range(0, 50), color='green', edgecolor='black')\n",
        "plt.title('Распределение количества предложений')\n",
        "plt.xlabel('Количество предложений')\n",
        "plt.ylabel('Частота')\n",
        "\n",
        "plt.tight_layout()\n",
        "plt.show()\n"
      ]
    },
    {
      "cell_type": "code",
      "execution_count": 3,
      "metadata": {
        "id": "uE7jECs9-fGm",
        "colab": {
          "base_uri": "https://localhost:8080/"
        },
        "outputId": "843769cc-30f7-4501-9282-bd491a44a212"
      },
      "outputs": [
        {
          "output_type": "execute_result",
          "data": {
            "text/plain": [
              "(19.55490330544507, 346.5976957893293)"
            ]
          },
          "metadata": {},
          "execution_count": 3
        }
      ],
      "source": [
        "def calculate_average_lengths(df):\n",
        "    total_sentences = 0\n",
        "    total_words = 0\n",
        "\n",
        "    for text in df['text']:\n",
        "        sentences = text.split('.')\n",
        "        words = text.split(' ')\n",
        "\n",
        "        total_sentences += len(sentences)\n",
        "        total_words += len(words)\n",
        "\n",
        "    average_sentence_length = total_sentences / len(df)\n",
        "    average_word_length = total_words / len(df)\n",
        "\n",
        "    return average_sentence_length, average_word_length\n",
        "\n",
        "calculate_average_lengths(res)"
      ]
    },
    {
      "cell_type": "code",
      "execution_count": 4,
      "metadata": {
        "id": "uNXq5afSaKzK",
        "colab": {
          "base_uri": "https://localhost:8080/"
        },
        "outputId": "cc7b16c4-a147-41ce-e0ac-2b0f3e76dde6"
      },
      "outputs": [
        {
          "output_type": "execute_result",
          "data": {
            "text/plain": [
              "ORG     10706\n",
              "PER      9560\n",
              "LOC      6727\n",
              "O        6522\n",
              "MISC     2940\n",
              "Name: entity, dtype: int64"
            ]
          },
          "metadata": {},
          "execution_count": 4
        }
      ],
      "source": [
        "res['entity'].value_counts()"
      ]
    },
    {
      "cell_type": "code",
      "execution_count": 5,
      "metadata": {
        "colab": {
          "base_uri": "https://localhost:8080/"
        },
        "id": "cuvvbB9O5Qsu",
        "outputId": "30d116f4-7c9d-4511-f7f9-c99c41c1acf2"
      },
      "outputs": [
        {
          "output_type": "stream",
          "name": "stdout",
          "text": [
            "Collecting Wikipedia-API\n",
            "  Downloading Wikipedia_API-0.6.0-py3-none-any.whl (14 kB)\n",
            "Requirement already satisfied: requests in /usr/local/lib/python3.10/dist-packages (from Wikipedia-API) (2.31.0)\n",
            "Requirement already satisfied: charset-normalizer<4,>=2 in /usr/local/lib/python3.10/dist-packages (from requests->Wikipedia-API) (3.3.2)\n",
            "Requirement already satisfied: idna<4,>=2.5 in /usr/local/lib/python3.10/dist-packages (from requests->Wikipedia-API) (3.6)\n",
            "Requirement already satisfied: urllib3<3,>=1.21.1 in /usr/local/lib/python3.10/dist-packages (from requests->Wikipedia-API) (2.0.7)\n",
            "Requirement already satisfied: certifi>=2017.4.17 in /usr/local/lib/python3.10/dist-packages (from requests->Wikipedia-API) (2024.2.2)\n",
            "Installing collected packages: Wikipedia-API\n",
            "Successfully installed Wikipedia-API-0.6.0\n"
          ]
        }
      ],
      "source": [
        "!pip install Wikipedia-API"
      ]
    },
    {
      "cell_type": "code",
      "execution_count": 6,
      "metadata": {
        "id": "OkuLQ0SD4hvy"
      },
      "outputs": [],
      "source": [
        "import wikipediaapi\n",
        "\n",
        "wiki_wiki = wikipediaapi.Wikipedia('bert_research', lang)\n",
        "\n",
        "def get_article_from_wiki(title):\n",
        "    page = wiki_wiki.page(title)\n",
        "\n",
        "    if not page.exists():\n",
        "        return None\n",
        "\n",
        "    text = page.text\n",
        "    text = \" \".join(text.split()[:100])\n",
        "    text = text.replace('\\n', '')\n",
        "    text = text.replace('\\\\', '')\n",
        "    text = text.replace(';', ',')\n",
        "\n",
        "    return text"
      ]
    },
    {
      "cell_type": "code",
      "execution_count": 7,
      "metadata": {
        "id": "f_VZYItI5dvt"
      },
      "outputs": [],
      "source": [
        "res = res.rename(columns = {'text': 'Vikidia'})\n",
        "\n",
        "res['Wikipedia'] = res['title'].apply(get_article_from_wiki)"
      ]
    },
    {
      "cell_type": "code",
      "execution_count": 8,
      "metadata": {
        "id": "LYQX4Cuq5oGU"
      },
      "outputs": [],
      "source": [
        "res.to_csv(f'dataset_{lang}.csv', index=False, sep=';')"
      ]
    },
    {
      "cell_type": "code",
      "execution_count": 9,
      "metadata": {
        "id": "9BQHU8J0APW3",
        "colab": {
          "base_uri": "https://localhost:8080/",
          "height": 238
        },
        "outputId": "ba61aac2-2526-4e94-ed51-cbc88282e36e"
      },
      "outputs": [
        {
          "output_type": "execute_result",
          "data": {
            "text/plain": [
              "                   title entity  \\\n",
              "0  Article de la semaine    PER   \n",
              "1               Camargue    ORG   \n",
              "2       Nom scientifique    PER   \n",
              "3                 Oiseau    ORG   \n",
              "4              Échassier      O   \n",
              "\n",
              "                                             Vikidia  \\\n",
              "0  Le flamant rose (nom scientifique : Phoenicopt...   \n",
              "1  La Camargue est une région naturelle du Sud-Es...   \n",
              "2  Carl von Linné, inventeur de la nomenclature b...   \n",
              "3  Un oiseau est un animal appartenant à la class...   \n",
              "4  L'aigrette est un oiseau échassier : elle util...   \n",
              "\n",
              "                                           Wikipedia  \n",
              "0                                               None  \n",
              "1  La Camargue (prononcé /ka.maʁg/ en français st...  \n",
              "2  En sciences naturelles, et plus précisément en...  \n",
              "3  Les Oiseaux (Aves) sont une classe de Vertébré...  \n",
              "4  Les échassiers forment un groupe d'oiseaux rec...  "
            ],
            "text/html": [
              "\n",
              "  <div id=\"df-e77defbc-6f2c-4508-9c6d-881261f48a2a\" class=\"colab-df-container\">\n",
              "    <div>\n",
              "<style scoped>\n",
              "    .dataframe tbody tr th:only-of-type {\n",
              "        vertical-align: middle;\n",
              "    }\n",
              "\n",
              "    .dataframe tbody tr th {\n",
              "        vertical-align: top;\n",
              "    }\n",
              "\n",
              "    .dataframe thead th {\n",
              "        text-align: right;\n",
              "    }\n",
              "</style>\n",
              "<table border=\"1\" class=\"dataframe\">\n",
              "  <thead>\n",
              "    <tr style=\"text-align: right;\">\n",
              "      <th></th>\n",
              "      <th>title</th>\n",
              "      <th>entity</th>\n",
              "      <th>Vikidia</th>\n",
              "      <th>Wikipedia</th>\n",
              "    </tr>\n",
              "  </thead>\n",
              "  <tbody>\n",
              "    <tr>\n",
              "      <th>0</th>\n",
              "      <td>Article de la semaine</td>\n",
              "      <td>PER</td>\n",
              "      <td>Le flamant rose (nom scientifique : Phoenicopt...</td>\n",
              "      <td>None</td>\n",
              "    </tr>\n",
              "    <tr>\n",
              "      <th>1</th>\n",
              "      <td>Camargue</td>\n",
              "      <td>ORG</td>\n",
              "      <td>La Camargue est une région naturelle du Sud-Es...</td>\n",
              "      <td>La Camargue (prononcé /ka.maʁg/ en français st...</td>\n",
              "    </tr>\n",
              "    <tr>\n",
              "      <th>2</th>\n",
              "      <td>Nom scientifique</td>\n",
              "      <td>PER</td>\n",
              "      <td>Carl von Linné, inventeur de la nomenclature b...</td>\n",
              "      <td>En sciences naturelles, et plus précisément en...</td>\n",
              "    </tr>\n",
              "    <tr>\n",
              "      <th>3</th>\n",
              "      <td>Oiseau</td>\n",
              "      <td>ORG</td>\n",
              "      <td>Un oiseau est un animal appartenant à la class...</td>\n",
              "      <td>Les Oiseaux (Aves) sont une classe de Vertébré...</td>\n",
              "    </tr>\n",
              "    <tr>\n",
              "      <th>4</th>\n",
              "      <td>Échassier</td>\n",
              "      <td>O</td>\n",
              "      <td>L'aigrette est un oiseau échassier : elle util...</td>\n",
              "      <td>Les échassiers forment un groupe d'oiseaux rec...</td>\n",
              "    </tr>\n",
              "  </tbody>\n",
              "</table>\n",
              "</div>\n",
              "    <div class=\"colab-df-buttons\">\n",
              "\n",
              "  <div class=\"colab-df-container\">\n",
              "    <button class=\"colab-df-convert\" onclick=\"convertToInteractive('df-e77defbc-6f2c-4508-9c6d-881261f48a2a')\"\n",
              "            title=\"Convert this dataframe to an interactive table.\"\n",
              "            style=\"display:none;\">\n",
              "\n",
              "  <svg xmlns=\"http://www.w3.org/2000/svg\" height=\"24px\" viewBox=\"0 -960 960 960\">\n",
              "    <path d=\"M120-120v-720h720v720H120Zm60-500h600v-160H180v160Zm220 220h160v-160H400v160Zm0 220h160v-160H400v160ZM180-400h160v-160H180v160Zm440 0h160v-160H620v160ZM180-180h160v-160H180v160Zm440 0h160v-160H620v160Z\"/>\n",
              "  </svg>\n",
              "    </button>\n",
              "\n",
              "  <style>\n",
              "    .colab-df-container {\n",
              "      display:flex;\n",
              "      gap: 12px;\n",
              "    }\n",
              "\n",
              "    .colab-df-convert {\n",
              "      background-color: #E8F0FE;\n",
              "      border: none;\n",
              "      border-radius: 50%;\n",
              "      cursor: pointer;\n",
              "      display: none;\n",
              "      fill: #1967D2;\n",
              "      height: 32px;\n",
              "      padding: 0 0 0 0;\n",
              "      width: 32px;\n",
              "    }\n",
              "\n",
              "    .colab-df-convert:hover {\n",
              "      background-color: #E2EBFA;\n",
              "      box-shadow: 0px 1px 2px rgba(60, 64, 67, 0.3), 0px 1px 3px 1px rgba(60, 64, 67, 0.15);\n",
              "      fill: #174EA6;\n",
              "    }\n",
              "\n",
              "    .colab-df-buttons div {\n",
              "      margin-bottom: 4px;\n",
              "    }\n",
              "\n",
              "    [theme=dark] .colab-df-convert {\n",
              "      background-color: #3B4455;\n",
              "      fill: #D2E3FC;\n",
              "    }\n",
              "\n",
              "    [theme=dark] .colab-df-convert:hover {\n",
              "      background-color: #434B5C;\n",
              "      box-shadow: 0px 1px 3px 1px rgba(0, 0, 0, 0.15);\n",
              "      filter: drop-shadow(0px 1px 2px rgba(0, 0, 0, 0.3));\n",
              "      fill: #FFFFFF;\n",
              "    }\n",
              "  </style>\n",
              "\n",
              "    <script>\n",
              "      const buttonEl =\n",
              "        document.querySelector('#df-e77defbc-6f2c-4508-9c6d-881261f48a2a button.colab-df-convert');\n",
              "      buttonEl.style.display =\n",
              "        google.colab.kernel.accessAllowed ? 'block' : 'none';\n",
              "\n",
              "      async function convertToInteractive(key) {\n",
              "        const element = document.querySelector('#df-e77defbc-6f2c-4508-9c6d-881261f48a2a');\n",
              "        const dataTable =\n",
              "          await google.colab.kernel.invokeFunction('convertToInteractive',\n",
              "                                                    [key], {});\n",
              "        if (!dataTable) return;\n",
              "\n",
              "        const docLinkHtml = 'Like what you see? Visit the ' +\n",
              "          '<a target=\"_blank\" href=https://colab.research.google.com/notebooks/data_table.ipynb>data table notebook</a>'\n",
              "          + ' to learn more about interactive tables.';\n",
              "        element.innerHTML = '';\n",
              "        dataTable['output_type'] = 'display_data';\n",
              "        await google.colab.output.renderOutput(dataTable, element);\n",
              "        const docLink = document.createElement('div');\n",
              "        docLink.innerHTML = docLinkHtml;\n",
              "        element.appendChild(docLink);\n",
              "      }\n",
              "    </script>\n",
              "  </div>\n",
              "\n",
              "\n",
              "<div id=\"df-f2e35f76-458d-46f0-83a3-4676bee31ed0\">\n",
              "  <button class=\"colab-df-quickchart\" onclick=\"quickchart('df-f2e35f76-458d-46f0-83a3-4676bee31ed0')\"\n",
              "            title=\"Suggest charts\"\n",
              "            style=\"display:none;\">\n",
              "\n",
              "<svg xmlns=\"http://www.w3.org/2000/svg\" height=\"24px\"viewBox=\"0 0 24 24\"\n",
              "     width=\"24px\">\n",
              "    <g>\n",
              "        <path d=\"M19 3H5c-1.1 0-2 .9-2 2v14c0 1.1.9 2 2 2h14c1.1 0 2-.9 2-2V5c0-1.1-.9-2-2-2zM9 17H7v-7h2v7zm4 0h-2V7h2v10zm4 0h-2v-4h2v4z\"/>\n",
              "    </g>\n",
              "</svg>\n",
              "  </button>\n",
              "\n",
              "<style>\n",
              "  .colab-df-quickchart {\n",
              "      --bg-color: #E8F0FE;\n",
              "      --fill-color: #1967D2;\n",
              "      --hover-bg-color: #E2EBFA;\n",
              "      --hover-fill-color: #174EA6;\n",
              "      --disabled-fill-color: #AAA;\n",
              "      --disabled-bg-color: #DDD;\n",
              "  }\n",
              "\n",
              "  [theme=dark] .colab-df-quickchart {\n",
              "      --bg-color: #3B4455;\n",
              "      --fill-color: #D2E3FC;\n",
              "      --hover-bg-color: #434B5C;\n",
              "      --hover-fill-color: #FFFFFF;\n",
              "      --disabled-bg-color: #3B4455;\n",
              "      --disabled-fill-color: #666;\n",
              "  }\n",
              "\n",
              "  .colab-df-quickchart {\n",
              "    background-color: var(--bg-color);\n",
              "    border: none;\n",
              "    border-radius: 50%;\n",
              "    cursor: pointer;\n",
              "    display: none;\n",
              "    fill: var(--fill-color);\n",
              "    height: 32px;\n",
              "    padding: 0;\n",
              "    width: 32px;\n",
              "  }\n",
              "\n",
              "  .colab-df-quickchart:hover {\n",
              "    background-color: var(--hover-bg-color);\n",
              "    box-shadow: 0 1px 2px rgba(60, 64, 67, 0.3), 0 1px 3px 1px rgba(60, 64, 67, 0.15);\n",
              "    fill: var(--button-hover-fill-color);\n",
              "  }\n",
              "\n",
              "  .colab-df-quickchart-complete:disabled,\n",
              "  .colab-df-quickchart-complete:disabled:hover {\n",
              "    background-color: var(--disabled-bg-color);\n",
              "    fill: var(--disabled-fill-color);\n",
              "    box-shadow: none;\n",
              "  }\n",
              "\n",
              "  .colab-df-spinner {\n",
              "    border: 2px solid var(--fill-color);\n",
              "    border-color: transparent;\n",
              "    border-bottom-color: var(--fill-color);\n",
              "    animation:\n",
              "      spin 1s steps(1) infinite;\n",
              "  }\n",
              "\n",
              "  @keyframes spin {\n",
              "    0% {\n",
              "      border-color: transparent;\n",
              "      border-bottom-color: var(--fill-color);\n",
              "      border-left-color: var(--fill-color);\n",
              "    }\n",
              "    20% {\n",
              "      border-color: transparent;\n",
              "      border-left-color: var(--fill-color);\n",
              "      border-top-color: var(--fill-color);\n",
              "    }\n",
              "    30% {\n",
              "      border-color: transparent;\n",
              "      border-left-color: var(--fill-color);\n",
              "      border-top-color: var(--fill-color);\n",
              "      border-right-color: var(--fill-color);\n",
              "    }\n",
              "    40% {\n",
              "      border-color: transparent;\n",
              "      border-right-color: var(--fill-color);\n",
              "      border-top-color: var(--fill-color);\n",
              "    }\n",
              "    60% {\n",
              "      border-color: transparent;\n",
              "      border-right-color: var(--fill-color);\n",
              "    }\n",
              "    80% {\n",
              "      border-color: transparent;\n",
              "      border-right-color: var(--fill-color);\n",
              "      border-bottom-color: var(--fill-color);\n",
              "    }\n",
              "    90% {\n",
              "      border-color: transparent;\n",
              "      border-bottom-color: var(--fill-color);\n",
              "    }\n",
              "  }\n",
              "</style>\n",
              "\n",
              "  <script>\n",
              "    async function quickchart(key) {\n",
              "      const quickchartButtonEl =\n",
              "        document.querySelector('#' + key + ' button');\n",
              "      quickchartButtonEl.disabled = true;  // To prevent multiple clicks.\n",
              "      quickchartButtonEl.classList.add('colab-df-spinner');\n",
              "      try {\n",
              "        const charts = await google.colab.kernel.invokeFunction(\n",
              "            'suggestCharts', [key], {});\n",
              "      } catch (error) {\n",
              "        console.error('Error during call to suggestCharts:', error);\n",
              "      }\n",
              "      quickchartButtonEl.classList.remove('colab-df-spinner');\n",
              "      quickchartButtonEl.classList.add('colab-df-quickchart-complete');\n",
              "    }\n",
              "    (() => {\n",
              "      let quickchartButtonEl =\n",
              "        document.querySelector('#df-f2e35f76-458d-46f0-83a3-4676bee31ed0 button');\n",
              "      quickchartButtonEl.style.display =\n",
              "        google.colab.kernel.accessAllowed ? 'block' : 'none';\n",
              "    })();\n",
              "  </script>\n",
              "</div>\n",
              "    </div>\n",
              "  </div>\n"
            ],
            "application/vnd.google.colaboratory.intrinsic+json": {
              "type": "dataframe",
              "variable_name": "res",
              "summary": "{\n  \"name\": \"res\",\n  \"rows\": 10,\n  \"fields\": [\n    {\n      \"column\": \"title\",\n      \"properties\": {\n        \"dtype\": \"string\",\n        \"num_unique_values\": 10,\n        \"samples\": [\n          \"Bec\",\n          \"Camargue\",\n          \"Plume\"\n        ],\n        \"semantic_type\": \"\",\n        \"description\": \"\"\n      }\n    },\n    {\n      \"column\": \"entity\",\n      \"properties\": {\n        \"dtype\": \"category\",\n        \"num_unique_values\": 4,\n        \"samples\": [\n          \"ORG\",\n          \"LOC\",\n          \"PER\"\n        ],\n        \"semantic_type\": \"\",\n        \"description\": \"\"\n      }\n    },\n    {\n      \"column\": \"Vikidia\",\n      \"properties\": {\n        \"dtype\": \"string\",\n        \"num_unique_values\": 10,\n        \"samples\": [\n          \"Le bec est une partie du corps des oiseaux qui leur permet de saisir et d'avaler leur nourriture. Leurs mandibules (l'\\u00e9quivalent de nos m\\u00e2choires) sont recouvertes au-dessus et au-dessous d'une couche corn\\u00e9e de longueur et de grosseur particuli\\u00e8res \\u00e0 chaque esp\\u00e8ce. Le bec des oiseaux leur sert \\u00e9galement \\u00e0 se gratter ou \\u00e0 lisser leur plumage et parfois \\u00e0 se d\\u00e9fendre. Pour certains, comme la cigogne, il permet d'envoyer des signaux forts par claquements. Chez de nombreuses esp\\u00e8ces, il participe \\u00e0 la parade amoureuse qui pr\\u00e9c\\u00e8de l'accouplement.  Ceux qui attrapent les insectes au vol, comme l'hirondelle, n'ont besoin que d'un bec plus court que celui de la m\\u00e9sange ou du rouge-queue qui les saisissent sur les plantes.  L'exception est le pic qui poss\\u00e8de un bec particuli\\u00e8rement pointu et solide lui permettant de creuser le bois des arbres pour saisir les insectes vivant sous l'\\u00e9corce et sa longue langue gluante lui permet de les retirer et de les avaler.  Solide, il leur permet de saisir et d'\\u00e9craser les graines. C'est le cas du chardonneret pour les petites graines du chardon, du pigeon et de la poule pour des grains plus gros.  Mangeur de fruits, il s'en sert pour saisir et croquer les fruits \\u00e0 coque dure, comme les noix. La perruche, plus petite, peut croquer de moins grosses graines.  Le bec prend parfois une taille \\u00e9norme chez le calao et le toucan.  Un colibri en vol.  Il est tellement fin et pointu que l'oiseau peut l'introduire au coeur des fleurs o\\u00f9 il puise le jus sucr\\u00e9 dont il se nourrit. Comme il ne peut se poser sur les tiges, cela ne lui est possible qu'en volant sur place comme un h\\u00e9licopt\\u00e8re.  Ces oiseaux, appel\\u00e9s \\u00e9chassiers \\u00e0 cause de leurs longues pattes, poss\\u00e8dent un bec pointu, comme le h\\u00e9ron, ou aplati au bout comme la spatule. Ils peuvent ainsi saisir les poissons et autres animaux aquatiques dont ils se nourrissent.  Ce bec leurs permet de r\\u00e9colter dans l'eau des plantes aquatiques dont ils se nourrissent.  Celui du p\\u00e9lican poss\\u00e8de aussi, par dessous, une poche dans laquelle il conserve en r\\u00e9serve la nourriture que ses petits viendront puiser lorsqu'il reviendra au nid.  Le bec color\\u00e9 du macareux poss\\u00e8de de petites pointes qui retiennent le poisson jusqu'\\u00e0 ce que l'oiseau ait r\\u00e9ussi \\u00e0 l'avaler.  Le bec recourb\\u00e9 du flamant rose est bord\\u00e9 de fines lamelles formant un filtre. Quand il ingurgite de l'eau, puis la rejette, les lamelles retiennent les petites crevettes qui lui donnent sa couleur rose particuli\\u00e8re.  L'aigle, le faucon, le vautour poss\\u00e8dent un bec crochu leurs permettant non seulement de saisir leur proie animale, saisie avec leurs pattes, mais aussi de la d\\u00e9pecer en lambeaux quand elle est trop grosse pour \\u00eatre aval\\u00e9e.  Un ornithorynque et son bec aplati.  Bien qu'elle ne soit pas un oiseau, la tortue poss\\u00e8de une avanc\\u00e9e de corne, analogue \\u00e0 un bec.  C'est un curieux animal appel\\u00e9 ornithorynque (nom fait de deux mots grecs signifiant \\u00ab bec d'oiseau \\u00bb).  On s'inspire du repas des oisillons quand on dit \\u00ab donner la becqu\\u00e9e \\u00e0 un b\\u00e9b\\u00e9 \\u00bb, m\\u00eame si c'est avec une cuiller. Becqueter, c'est manger. Un \\u00ab bec fin \\u00bb sait reconna\\u00eetre la qualit\\u00e9 du repas.  On donne le mot bec \\u00e0 ce qui d\\u00e9passe : le bec d'une casserole ou d'une cruche. Les musiciens parlent d'une fl\\u00fbte \\u00e0 bec, d'un bec de clarinette ou d'un hautbois. On appelait bec de gaz, les anciens r\\u00e9verb\\u00e8res dont l'\\u00e9clairage \\u00e9tait fourni par du gaz enflamm\\u00e9 sortant du bec contenu dans la lanterne.  Certaines expressions sont imagin\\u00e9es :  une \\u00ab prise de bec \\u00bb (dispute verbale),  \\u00ab clouer le bec \\u00bb (de celui qu'on veut emp\\u00eacher de parler),  \\u00ab se d\\u00e9fendre bec et ongles \\u00bb (en utilisant toutes ses forces ou toutes les armes disponibles).  \\u00ab Tomber sur un bec \\u00bb (une difficult\\u00e9 impr\\u00e9vue),  \\u00ab rester le bec dans l'eau \\u00bb (dans l'attente de quelque chose qui ne vient pas).\",\n          \"La Camargue est une r\\u00e9gion naturelle du Sud-Est de la France. Elle est situ\\u00e9e dans le delta du Rh\\u00f4ne. C'est une r\\u00e9gion en grande partie mar\\u00e9cageuse. On y pratique la culture du riz et l'\\u00e9levage des taureaux. Il y a des salines et des vignobles. C'est aussi une r\\u00e9serve naturelle (\\u00e9tang de Vaccar\\u00e8s).  Des guardians en Camargue, vers 1900.  La Camargue est une plaine alluviale en cours de formation. Elle a une altitude tr\\u00e8s basse (jamais plus de 4 m\\u00e8tres). Elle est isol\\u00e9e de la mer M\\u00e9diterran\\u00e9e par un mince cordon littoral. Les alluvions sont apport\\u00e9es par les bras du delta du Rh\\u00f4ne, surtout le Grand Rh\\u00f4ne. Des courants venus du sud-est bloquent la progression des d\\u00e9bris en mer l\\u00e0 o\\u00f9 les apports alluviaux sont insuffisants. La c\\u00f4te a donc tendance \\u00e0 la r\\u00e9gularisation. Un cordon littoral a s\\u00e9par\\u00e9 l'\\u00e9tang de Vaccar\\u00e8s de la mer.  \\u00c0 l'\\u00e9tat naturel, la plaine est amphibie. Elle est infest\\u00e9e de moustiques et constamment menac\\u00e9e par les inondations du Rh\\u00f4ne et les infiltrations d'eau sal\\u00e9e. La v\\u00e9g\\u00e9tation naturelle est une sorte de steppe appel\\u00e9e \\u00ab engane \\u00bb.  La Haute Camargue, au sud d'Arles, produit des fruits et des c\\u00e9r\\u00e9ales ainsi qu'un vignoble.  La Basse Camargue, form\\u00e9e de p\\u00e2turages mar\\u00e9cageux, domaines des chevaux et des taureaux de combat, n'a \\u00e9t\\u00e9 mise en valeur qu'au XIXe si\\u00e8cle. La construction d'une digue a permis de s'opposer aux eaux marines refoul\\u00e9es par les vents du Sud. Le plan d'eau a \\u00e9t\\u00e9 abaiss\\u00e9 gr\\u00e2ce au drainage.  Diverses cultures ont \\u00e9t\\u00e9 tent\\u00e9es alors (roseaux, c\\u00e9r\\u00e9ales), de petites exploitations agricoles, les mas, ont \\u00e9t\\u00e9 cr\\u00e9\\u00e9es. La culture du riz, tent\\u00e9e d\\u00e8s le XVIe si\\u00e8cle, puis abandonn\\u00e9e a repris apr\\u00e8s la Seconde Guerre mondiale. Il a fallu mener des travaux importants et tr\\u00e8s co\\u00fbteux pour \\u00e9vacuer les eaux sal\\u00e9es, pr\\u00e9parer les sols \\u00e0 recevoir les cultures. De nombreuses digues ont \\u00e9t\\u00e9 \\u00e9difi\\u00e9es, mais leur entretien est souvent n\\u00e9glig\\u00e9 (d'o\\u00f9 les fr\\u00e9quentes inondations catastrophiques de ces derni\\u00e8res ann\\u00e9es).\",\n          \"Les plumes forment la protection corporelle de tous les oiseaux. Pour voler, les plumes de leurs ailes et de leur queue sont indispensables.  Selon les esp\\u00e8ces, l'oiseau poss\\u00e8de entre 1 000 et 30 000 plumes, repr\\u00e9sentant souvent de 10 \\u00e0 30 % de son poids total. Son organisme les fabrique avec de la k\\u00e9ratine, la m\\u00eame mati\\u00e8re qui compose nos cheveux, nos ongles et tous les poils des animaux, dont la laine. Si on en br\\u00fble un peu, cela sent la corne br\\u00fbl\\u00e9e.  Sch\\u00e9ma d'une plume.  \\u00c0 part le duvet, tr\\u00e8s l\\u00e9ger, qui recouvre certaines parties du corps de l'oiseau, surtout celui des oisillons, chaque plume est form\\u00e9e d'une hampe \\u00e0 l'extr\\u00e9mit\\u00e9 creuse, solidement implant\\u00e9e dans la peau, garnie de deux bandes de barbes s'attachant ensemble par des barbules et de minuscules crochets, ce qui est \\u00e0 la fois souple et \\u00e9tanche.  On appelle pennes les plumes les plus solides des ailes et de la queue. Celles des ailes sont appel\\u00e9es r\\u00e9miges ( il y a le primaires, les secondaires ainsi que les tertiaires ), celles de la queue rectrices car elles s'orientent selon la direction \\u00e0 prendre, comme un gouvernail.  Chaque plume est rarement d'une seule couleur. Certaines couleurs ne se voient pas au verso de la plume, preuve que celle-ci renvoie en la d\\u00e9composant la lumi\\u00e8re qu'elle re\\u00e7oit, ce qui peut produire des reflets verts, bleus ou dor\\u00e9s.  On appelle plumage l'ensemble des plumes d'un oiseau. Rares sont les oiseaux dont le plumage est de couleur uniforme. Le plumage est donc souvent color\\u00e9 comme par exemple celui de l'hirondelle bicolore Chaque esp\\u00e8ce est caract\\u00e9ris\\u00e9e principalement par son plumage, souvent diff\\u00e9rent selon le sexe (celui du m\\u00e2le est g\\u00e9n\\u00e9ralement plus color\\u00e9 que celui de la femelle, le panache de sa queue est parfois plus important). La nourriture fournit les colorants pour la fabrication des plumes. Le flamant rose a besoin de minuscules crevettes pour maintenir le rose de certaines plumes.  Le plumage des oiseaux d'eau est g\\u00e9n\\u00e9ralement imperm\\u00e9able, sauf celui du cormoran qui doit faire s\\u00e9cher ses ailes apr\\u00e8s un plongeon s'il veut s'envoler.  Aujourd'hui, les oiseaux sont les seuls \\u00e0 porter des plumes. Mais cela n'a pas toujours \\u00e9t\\u00e9 le cas.  On a d\\u00e9couvert r\\u00e9cemment que certains dinosaures1 portaient \\u00e9galement des plumes. Cette d\\u00e9couverte a \\u00e9t\\u00e9 confirm\\u00e9e par de nombreux fossiles, trouv\\u00e9s en Chine, notamment. Cela concerne de nombreux dinosaures carnivores, et le tyrannosaure et le v\\u00e9lociraptor, notamment, portaient probablement des plumes.  Les plumes des dinosaures ne leur servaient pas \\u00e0 voler, mais plut\\u00f4t \\u00e0 avoir chaud. Le plus ancien animal connu avec des plumes est l'arch\\u00e9opteryx. On pense qu'il s'agit d'un tr\\u00e8s ancien oiseau, mais il pourrait aussi \\u00eatre une autre sorte de dinosaure.  L\\u00e9g\\u00e8res et emmagasinant de l'air, les plumes prot\\u00e8gent du froid, m\\u00eame pour l'homme lorsqu'elles sont emprisonn\\u00e9es entre deux couches de tissu. C'est surtout vrai pour le duvet qui, avant l'invention des rembourrages synth\\u00e9tiques, servait \\u00e0 garnir les anoraks et les sacs de couchage (qu'on continue \\u00e0 appeler duvets).  Le duvet sert aussi de rembourrage \\u00e0 certains oreillers et l'on appelle \\u00e9dredon de gros coussins autrefois bourr\\u00e9s de duvet d'eider (vari\\u00e9t\\u00e9 de canard sauvage des pays nordiques).  Le mot vulgaire \\u00ab plumard \\u00bb, pour d\\u00e9signer le lit, rappelle l'\\u00e9poque o\\u00f9 certains matelas \\u00e9taient garnis de grosses plumes. Pour leur douceur, les plumes furent aussi utilis\\u00e9es pour les plumeaux, petits balais permettant d'\\u00e9pousseter les choses les plus fragiles.  Mais certaines personnes, \\u00e0 cause d'une allergie, ne peuvent supporter la pr\\u00e9sence des plumes et duvets.  De nombreux peuples, vivant en pleine nature, utilisent comme parure des plumes d'oiseaux sauvages, ce qui n'est trop grave pour les esp\\u00e8ces.  Cela devint diff\\u00e9rent lorsque les Europ\\u00e9ens voulurent d\\u00e9corer leur chapeau en faisant venir des pays tropicaux des panaches pour les hommes (on dit encore plumet pour certains k\\u00e9pis de parade) et surtout pour les femmes les plus riches. Les plumassiers \\u00e9taient les artisans qui achetaient une quantit\\u00e9 de plumes, souvent rares, et les arrangeaient pour les parures. Cela devint une folie \\u00e0 la fin du XIXe si\\u00e8cle lorsque toutes les femmes ais\\u00e9es et extravagantes voulaient, pour d\\u00e9corer leurs volumineux chapeaux, rivaliser de plumes, d'ailes enti\\u00e8res et m\\u00eame de petits oiseaux complets. Au d\\u00e9but du XXe si\\u00e8cle, des amis de la nature d\\u00e9nonc\\u00e8rent ce g\\u00e2chis qui risquait de faire dispara\\u00eetre des esp\\u00e8ces enti\\u00e8res de magnifiques oiseaux exotiques. Leurs adversaires pr\\u00e9tendaient rassurer en disant qu'ils se contentaient de retirer les plumes, sans tuer les oiseaux, mais que pouvaient devenir les victimes ne pouvant plus voler, ni nourrir leurs oisillons ? La Premi\\u00e8re Guerre Mondiale mit fin \\u00e0 cette dangereuse mode et les chapeaux devinrent plus modestes.  Actuellement, seuls les spectacles de fantaisie utilisent encore de grosses parures de plumes, venues g\\u00e9n\\u00e9ralement d'autruches d'\\u00e9levage.  Au XIIe si\\u00e8cle, on d\\u00e9couvrit que le roseau taill\\u00e9 pour l'\\u00e9criture pouvait \\u00eatre remplac\\u00e9 par une grande plume d'oie, taill\\u00e9e en biais et fendue au bout. Le creux de la plume, tremp\\u00e9e dans l'encrier, conservait une petite r\\u00e9serve permettant d'\\u00e9crire davantage de mots. L'\\u00e9criture devenait plus souple, plus rapide et plus belle. Pendant des si\\u00e8cles, la plume devint synonyme d'\\u00e9criture.  Au XIXe si\\u00e8cle, des industriels invent\\u00e8rent de petits objets m\\u00e9talliques, fendus au milieu, qui conserv\\u00e8rent le nom de plume et on appelait porte-plume le b\\u00e2ton sur lequel elle \\u00e9tait fix\\u00e9e et plumier la bo\\u00eete dans laquelle on le rangeait. Il devenait inutile de retailler r\\u00e9guli\\u00e8rement la pointe de la plume, mais il fallait continuer \\u00e0 la tremper r\\u00e9guli\\u00e8rement dans l'encrier.  Pour \\u00e9viter cet inconv\\u00e9nient et surtout dispenser de transporter partout sa bouteille d'encre, d'autres industriels invent\\u00e8rent ensuite des stylos \\u00e0 plume \\u00e0 r\\u00e9servoir, finalement remplac\\u00e9 par des cartouches d'encre.  Au milieu du XXe si\\u00e8cle, fut invent\\u00e9 le stylo \\u00e0 bille qui resta longtemps m\\u00e9pris\\u00e9 par ceux qui voulaient que l'\\u00e9criture reste associ\\u00e9e \\u00e0 la plume, m\\u00eame si la vraie plume d'oie avait disparu.  Le poids-plume sportif se r\\u00e9f\\u00e8re \\u00e0 la l\\u00e9g\\u00e8ret\\u00e9, mais le poids-mouche est encore plus l\\u00e9ger.  Se d\\u00e9plumer, c'est perdre ses cheveux au risque de devenir bient\\u00f4t chauve. Voler dans les plumes (se battre) est probablement une allusion aux combats de coqs organis\\u00e9s par les hommes. Y perdre des plumes ou se faire plumer, c'est perdre de l'argent ou d'autres biens.  Beaucoup d'autres expressions associent le plume \\u00e0 l'\\u00e9criture. Prendre la plume, c'est se mettre \\u00e0 \\u00e9crire. Un \\u00e9crivain c\\u00e9l\\u00e8bre peut vivre de sa plume (sans exercer d'autre m\\u00e9tier), m\\u00eame s'il tape ses textes \\u00e0 l'ordinateur. En revanche, le plumitif \\u00e9crit beaucoup sans aucun talent.  \\u2191les oiseaux font partie des dinosaures ; mais tous les dinosaures ne sont pas des oiseaux, et certains dinosaures qui ne sont pas des oiseaux avaient aussi des plumes\"\n        ],\n        \"semantic_type\": \"\",\n        \"description\": \"\"\n      }\n    },\n    {\n      \"column\": \"Wikipedia\",\n      \"properties\": {\n        \"dtype\": \"string\",\n        \"num_unique_values\": 9,\n        \"samples\": [\n          \"Un bec, au sens strict, est une structure anatomique externe qui permet la prise alimentaire et donc la nutrition chez les oiseaux. Mais il permet aussi la toilette de l'animal, la nutrition des jeunes, la chasse d'une proie, la manipulation d'objets, et peut aussi \\u00eatre un \\u00e9l\\u00e9ment important pour la parade nuptiale. La rhamphoth\\u00e8que est le t\\u00e9gument corn\\u00e9 du bec recouvrant les deux mandibules osseuses. Anatomie Le bec est plus pr\\u00e9cis\\u00e9ment un phan\\u00e8re, au m\\u00eame titre que les plumes et les \\u00e9cailles, qui sont donc des productions corn\\u00e9es du t\\u00e9gument. Il se d\\u00e9veloppe sur les structures osseuses pr\\u00e9maxillaires, maxillaires et\",\n          \"En sciences naturelles, et plus pr\\u00e9cis\\u00e9ment en taxinomie, le nom scientifique est le nom donn\\u00e9 officiellement, et internationalement, \\u00e0 une esp\\u00e8ce ou \\u00e0 un autre rang de taxon. Ces noms sont r\\u00e9put\\u00e9s \\u00eatre en latin scientifique, c'est-\\u00e0-dire qu'ils se d\\u00e9clinent comme des noms latins, mais que, sauf exception, ils n'existaient pas du temps de la Rome antique. Le nom scientifique officiel est unique, mais il peut avoir des synonymes pour des raisons historiques, par exemple parce qu'un m\\u00eame taxon a \\u00e9t\\u00e9 nomm\\u00e9 plusieurs fois et ind\\u00e9pendamment, ou divis\\u00e9 en plusieurs, ou au contraire regroup\\u00e9 avec d'autres, voire chang\\u00e9 de rang.\",\n          \"Le m\\u00e2le (du latin masculus : \\u00ab m\\u00e2le, masculin, viril \\u00bb) est, en biologie, un organisme ou un organe produisant des gam\\u00e8tes motiles dans le cadre de la reproduction sexu\\u00e9e anisogame. L'organisme ou organe produisant la contrepartie compl\\u00e9mentaire, sous forme de gam\\u00e8tes non motiles mais tr\\u00e8s riches en r\\u00e9serves nutritives, est appel\\u00e9 femelle. M\\u00e9canismes Contrairement \\u00e0 la reproduction isogame, il existe deux types de gam\\u00e8tes dans la reproduction anisogame : un gam\\u00e8te dou\\u00e9 d'une certaine motilit\\u00e9 (ex : pollen, anth\\u00e9rozo\\u00efde) , un gam\\u00e8te plut\\u00f4t v\\u00e9g\\u00e9tatif ayant souvent de grandes r\\u00e9serves nutritives (ex : oospore).L'organe ou organisme produisant la contrepartie v\\u00e9g\\u00e9tative\"\n        ],\n        \"semantic_type\": \"\",\n        \"description\": \"\"\n      }\n    }\n  ]\n}"
            }
          },
          "metadata": {},
          "execution_count": 9
        }
      ],
      "source": [
        "res.head()"
      ]
    },
    {
      "cell_type": "code",
      "execution_count": null,
      "metadata": {
        "id": "c_zrpve6A5aJ"
      },
      "outputs": [],
      "source": []
    }
  ],
  "metadata": {
    "colab": {
      "provenance": []
    },
    "kernelspec": {
      "display_name": "Python 3",
      "name": "python3"
    },
    "language_info": {
      "name": "python"
    }
  },
  "nbformat": 4,
  "nbformat_minor": 0
}